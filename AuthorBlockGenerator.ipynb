{
 "cells": [
  {
   "cell_type": "code",
   "execution_count": 2,
   "metadata": {},
   "outputs": [],
   "source": [
    "import pandas as pd\n",
    "import numpy as np\n",
    "import re\n",
    "import docx"
   ]
  },
  {
   "cell_type": "code",
   "execution_count": 75,
   "metadata": {},
   "outputs": [
    {
     "data": {
      "text/html": [
       "<div>\n",
       "<style scoped>\n",
       "    .dataframe tbody tr th:only-of-type {\n",
       "        vertical-align: middle;\n",
       "    }\n",
       "\n",
       "    .dataframe tbody tr th {\n",
       "        vertical-align: top;\n",
       "    }\n",
       "\n",
       "    .dataframe thead th {\n",
       "        text-align: right;\n",
       "    }\n",
       "</style>\n",
       "<table border=\"1\" class=\"dataframe\">\n",
       "  <thead>\n",
       "    <tr style=\"text-align: right;\">\n",
       "      <th></th>\n",
       "      <th>First</th>\n",
       "      <th>Last</th>\n",
       "      <th>Affiliation</th>\n",
       "      <th>SimpleAffiliation</th>\n",
       "      <th>NumAffiliation</th>\n",
       "    </tr>\n",
       "  </thead>\n",
       "  <tbody>\n",
       "    <tr>\n",
       "      <th>0</th>\n",
       "      <td>Madalina</td>\n",
       "      <td>Vlasceanu</td>\n",
       "      <td>New York University</td>\n",
       "      <td>[New York University]</td>\n",
       "      <td>-1</td>\n",
       "    </tr>\n",
       "    <tr>\n",
       "      <th>1</th>\n",
       "      <td>Kimberly C.</td>\n",
       "      <td>Doell</td>\n",
       "      <td>University of Vienna</td>\n",
       "      <td>[University of Vienna]</td>\n",
       "      <td>-1</td>\n",
       "    </tr>\n",
       "    <tr>\n",
       "      <th>2</th>\n",
       "      <td>Joe</td>\n",
       "      <td>Bak Coleman</td>\n",
       "      <td>Columbia University</td>\n",
       "      <td>[Columbia University]</td>\n",
       "      <td>-1</td>\n",
       "    </tr>\n",
       "    <tr>\n",
       "      <th>3</th>\n",
       "      <td>Sam</td>\n",
       "      <td>Grayson</td>\n",
       "      <td>Stanford University</td>\n",
       "      <td>[Stanford University]</td>\n",
       "      <td>-1</td>\n",
       "    </tr>\n",
       "    <tr>\n",
       "      <th>4</th>\n",
       "      <td>Yifei</td>\n",
       "      <td>Pei</td>\n",
       "      <td>New York University</td>\n",
       "      <td>[New York University]</td>\n",
       "      <td>-1</td>\n",
       "    </tr>\n",
       "  </tbody>\n",
       "</table>\n",
       "</div>"
      ],
      "text/plain": [
       "         First         Last           Affiliation       SimpleAffiliation  \\\n",
       "0     Madalina    Vlasceanu   New York University   [New York University]   \n",
       "1  Kimberly C.        Doell  University of Vienna  [University of Vienna]   \n",
       "2          Joe  Bak Coleman   Columbia University   [Columbia University]   \n",
       "3          Sam      Grayson   Stanford University   [Stanford University]   \n",
       "4        Yifei          Pei   New York University   [New York University]   \n",
       "\n",
       "  NumAffiliation  \n",
       "0             -1  \n",
       "1             -1  \n",
       "2             -1  \n",
       "3             -1  \n",
       "4             -1  "
      ]
     },
     "execution_count": 75,
     "metadata": {},
     "output_type": "execute_result"
    }
   ],
   "source": [
    "df = pd.read_excel('authors.xlsx')\n",
    "\n",
    "def univ_only(affil):\n",
    "    opts = map(str.strip, re.split(r\"[&,\\n;]\", affil))\n",
    "    return [s for s in opts if any(map(s.__contains__, [\"Univers\", \"College\"])) ]\n",
    "    \n",
    "df[\"SimpleAffiliation\"] = df.Affiliation.apply(univ_only)\n",
    "df[\"NumAffiliation\"] = \"-1\"\n",
    "\n",
    "df.head()"
   ]
  },
  {
   "cell_type": "code",
   "execution_count": 76,
   "metadata": {},
   "outputs": [
    {
     "name": "stderr",
     "output_type": "stream",
     "text": [
      "/opt/anaconda3/envs/research/lib/python3.6/site-packages/ipykernel_launcher.py:10: FutureWarning: elementwise comparison failed; returning scalar instead, but in the future will perform elementwise comparison\n",
      "  # Remove the CWD from sys.path while we load stuff.\n"
     ]
    }
   ],
   "source": [
    "# import itertools\n",
    "# unique_affiliations = set(itertools.chain.from_iterable(df.SimpleAffiliation))\n",
    "\n",
    "lookup = np.array([])\n",
    "for i, author in df.iterrows():\n",
    "    nums = []\n",
    "    for affil in author.SimpleAffiliation: # If none, skips\n",
    "        if affil not in lookup:\n",
    "            lookup = np.append(lookup, affil)\n",
    "        nums.append(np.where(lookup == affil)[0][0]+1)\n",
    "    if len(nums) > 0:\n",
    "        df.iloc[i][\"NumAffiliation\"] = \",\".join(map(str, sorted(nums)))\n"
   ]
  },
  {
   "cell_type": "code",
   "execution_count": 77,
   "metadata": {},
   "outputs": [],
   "source": [
    "from docx import Document\n",
    "document = Document()\n",
    "\n",
    "p = document.add_paragraph()\n",
    "for i, author in df.iterrows():    \n",
    "    _ = p.add_run(f\"{author.First} {author.Last}\")\n",
    "    sup = p.add_run(f\"{author.NumAffiliation}\")\n",
    "    sup.font.superscript = True\n",
    "    _ = p.add_run(f\", \")    \n",
    "\n",
    "for i, affil in enumerate(lookup):\n",
    "    p = document.add_paragraph()\n",
    "    sup = p.add_run(f\"{i+1}\")\n",
    "    sup.font.superscript = True\n",
    "    _ = p.add_run(f\"{affil}\")\n",
    "\n",
    "p = document.add_paragraph()    \n",
    "sup = p.add_run(\"-1\")\n",
    "sup.font.superscript = True\n",
    "_ = p.add_run(f\"TKTK\")\n",
    "    \n",
    "\n",
    "# for author in df.rows():\n",
    "#     super_text = p.add_run('superscript text')\n",
    "#     super_text.font.superscript = True\n",
    "\n",
    "#     p.add_run(' and ')\n",
    "\n",
    "#     sub_text = p.add_run('subscript text')\n",
    "#     sub_text.font.subscript = True\n",
    "\n",
    "document.save('authors.docx')"
   ]
  }
 ],
 "metadata": {
  "kernelspec": {
   "display_name": "Python 3",
   "language": "python",
   "name": "python3"
  },
  "language_info": {
   "codemirror_mode": {
    "name": "ipython",
    "version": 3
   },
   "file_extension": ".py",
   "mimetype": "text/x-python",
   "name": "python",
   "nbconvert_exporter": "python",
   "pygments_lexer": "ipython3",
   "version": "3.6.10"
  }
 },
 "nbformat": 4,
 "nbformat_minor": 4
}
